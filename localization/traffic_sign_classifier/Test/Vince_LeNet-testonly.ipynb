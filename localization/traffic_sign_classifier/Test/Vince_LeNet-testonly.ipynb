{
 "cells": [
  {
   "cell_type": "markdown",
   "metadata": {},
   "source": [
    "# Self-Driving Car Engineer Nanodegree\n",
    "\n",
    "## Deep Learning\n",
    "\n",
    "## Test the Traffic Sign Recognition Classifier\n"
   ]
  },
  {
   "cell_type": "markdown",
   "metadata": {},
   "source": [
    "---\n",
    "## Step 0: Load The Data"
   ]
  },
  {
   "cell_type": "code",
   "execution_count": 2,
   "metadata": {},
   "outputs": [
    {
     "name": "stdout",
     "output_type": "stream",
     "text": [
      "Preprocess done\n"
     ]
    }
   ],
   "source": [
    "import pickle\n",
    "import numpy as np\n",
    "import pandas as pd\n",
    "\n",
    "testing_file = '../data/test.p'\n",
    "\n",
    "with open(testing_file, mode='rb') as f:\n",
    "    test = pickle.load(f)\n",
    "    \n",
    "X_test, y_test = test['features'], test['labels']\n",
    "n_classes = len(pd.unique(y_test))\n",
    "\n",
    "def preprocess_set(x_set):\n",
    "    #Grayscale\n",
    "    x_set = np.sum(x_set/3, axis=3, keepdims=True)\n",
    "    #Normalization\n",
    "    x_set = (x_set-128)/128    \n",
    "    return x_set\n",
    "\n",
    "X_test = preprocess_set(X_test)\n",
    "\n",
    "print ('Preprocess done')"
   ]
  },
  {
   "cell_type": "code",
   "execution_count": 11,
   "metadata": {},
   "outputs": [
    {
     "name": "stdout",
     "output_type": "stream",
     "text": [
      "INFO:tensorflow:Restoring parameters from LeNet2020-07-23 18:00:00\n",
      "87.47%\n"
     ]
    }
   ],
   "source": [
    "import tensorflow as tf\n",
    "\n",
    "model_name = 'LeNet2020-07-23 18:00:00'\n",
    "tf.reset_default_graph()\n",
    "\n",
    "with tf.Session() as sess:\n",
    "    saver = tf.train.import_meta_graph(model_name + \".meta\")\n",
    "    saver.restore(sess, model_name)\n",
    "  \n",
    "    ys = sess.graph.get_tensor_by_name('input/labels:0')\n",
    "    xs = sess.graph.get_tensor_by_name('input/images:0')\n",
    "    keep_prob = sess.graph.get_tensor_by_name('input/keep_prob:0')\n",
    "  \n",
    "    v_xs=X_test\n",
    "    v_ys=y_test\n",
    "\n",
    "    prediction = sess.graph.get_tensor_by_name('fc_layer3/output/classifier:0')\n",
    "    y_pre = sess.run(prediction, feed_dict={xs: v_xs, ys: v_ys, keep_prob: 1})\n",
    "    one_hot_y = tf.one_hot(y_test, n_classes, name='one_hot_y')\n",
    "    correct_prediction = tf.equal(tf.argmax(prediction, 1), tf.argmax(one_hot_y, 1))\n",
    "    accuracy_operation = tf.reduce_mean(tf.cast(correct_prediction, tf.float32))\n",
    "    \n",
    "    test_accuracy = sess.run(accuracy_operation, feed_dict={xs: X_test, ys: y_test, keep_prob: 1.0})\n",
    "    \n",
    "print (\"{:.2%}\".format(test_accuracy))"
   ]
  },
  {
   "cell_type": "code",
   "execution_count": null,
   "metadata": {},
   "outputs": [],
   "source": []
  }
 ],
 "metadata": {
  "anaconda-cloud": {},
  "kernelspec": {
   "display_name": "Python 3",
   "language": "python",
   "name": "python3"
  },
  "language_info": {
   "codemirror_mode": {
    "name": "ipython",
    "version": 3
   },
   "file_extension": ".py",
   "mimetype": "text/x-python",
   "name": "python",
   "nbconvert_exporter": "python",
   "pygments_lexer": "ipython3",
   "version": "3.6.3"
  }
 },
 "nbformat": 4,
 "nbformat_minor": 1
}
