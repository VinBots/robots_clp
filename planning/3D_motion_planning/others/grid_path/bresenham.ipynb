{
 "cells": [
  {
   "cell_type": "markdown",
   "metadata": {},
   "source": [
    "## Bresenham "
   ]
  },
  {
   "cell_type": "code",
   "execution_count": 4,
   "metadata": {},
   "outputs": [],
   "source": [
    "import numpy as np\n",
    "import matplotlib.pyplot as plt\n",
    "%matplotlib inline\n",
    "plt.rcParams['figure.figsize'] = 12, 12"
   ]
  },
  {
   "cell_type": "markdown",
   "metadata": {},
   "source": [
    "Your task is to implement the bresenham function given two points $p_1$ and $p_2$ as inputs. The function should return the list of grid cells required to draw the line.\n",
    "\n",
    "What conditions would warrant a move by 1 unit along the x-axis? What about along the y-axis?\n",
    "\n",
    "The idea is to move based on whether the next $y$ value will be above or below the line from $p_1$ to $p_2$. We can keep track of the current line value, effectively $f(x)$ where $f$ is the line equation by incrementing a counter variable by the slope $m$ whenever we move in the x-axis.\n",
    "\n",
    "The condition is then (in pseudocode):\n",
    "\n",
    "```\n",
    "if f(x+1) > y + 1:\n",
    "    y += 1\n",
    "else:\n",
    "    x += 1\n",
    "```\n",
    "\n",
    "So, if moving along the y-axis results in a y value that is below the line, then move along the y-axis, otherwise,  move in the x-axis.\n",
    "\n",
    "But what about the case where `f(x+1) == y+1`? This will be the result of every test case when the line slope `m = 1`. In this case you have a choice to make:\n",
    "* Only identify cells that as \"in collision\" when the line actually passes through those cells (less conservative obstacle avoidance)\n",
    "* When the line passes directly through a corner of grid cells, identify all cells that share that corner as \"in collision\" (more conservative obstacle avoidance). \n",
    "\n",
    "These two options look like this for a line from (0, 0) to (5, 5):\n",
    "\n",
    "![comparison](./bresenham_comparison.png)\n",
    "\n",
    "Try coding up both! In the event that you've padded obstacles  in your grid map with a sufficient safety margin, you can likely get away with the less conservative approach (or computer graphics based Bresenham implementation in the Python package shown below).\n"
   ]
  },
  {
   "cell_type": "code",
   "execution_count": 5,
   "metadata": {},
   "outputs": [],
   "source": [
    "def bres(p1, p2):\n",
    "    \"\"\"\n",
    "    Note this solution requires `x1` < `x2` and `y1` < `y2`.\n",
    "    \"\"\"\n",
    "    x1, y1 = p1\n",
    "    x2, y2 = p2\n",
    "    cells = []\n",
    "    \n",
    "    # Here's a quick explanation in math terms of our approach\n",
    "    # First, set dx = x2 - x1 and dy = y2 - y1\n",
    "    dx, dy = x2 - x1, y2 - y1\n",
    "    # Then define a new quantity: d = x dy - y dx.\n",
    "    # and set d = 0 initially\n",
    "    d = 0\n",
    "    # The condition we care about is whether \n",
    "    # (x + 1) * m < y + 1 or moving things around a bit: \n",
    "    # (x + 1) dy / dx < y + 1 \n",
    "    # which implies: x dy - y dx < dx - dy\n",
    "    # or in other words: d < dx - dy is our new condition\n",
    "    \n",
    "    # Initialize i, j indices\n",
    "    i = x1\n",
    "    j = y1\n",
    "    \n",
    "    while i < x2 and j < y2:\n",
    "        cells.append([i, j])\n",
    "        if d < dx - dy:\n",
    "            d += dy\n",
    "            i += 1\n",
    "        elif d == dx - dy:\n",
    "            # uncomment these two lines for conservative approach\n",
    "            #cells.append([i+1, j])\n",
    "            #cells.append([i, j+1])\n",
    "            d += dy\n",
    "            i += 1  \n",
    "            d -= dx\n",
    "            j += 1\n",
    "        else:\n",
    "            d -= dx\n",
    "            j += 1\n",
    "\n",
    "    return np.array(cells)"
   ]
  },
  {
   "cell_type": "markdown",
   "metadata": {},
   "source": [
    "Plotting the line with the cells which it crosses. "
   ]
  },
  {
   "cell_type": "code",
   "execution_count": 6,
   "metadata": {},
   "outputs": [
    {
     "data": {
      "image/png": "[encoded data removed]",
      "text/plain": [
       "<Figure size 864x864 with 1 Axes>"
      ]
     },
     "metadata": {
      "needs_background": "light"
     },
     "output_type": "display_data"
    }
   ],
   "source": [
    "p1 = (0, 0)\n",
    "p2 = (5, 5)\n",
    "\n",
    "cells = bres(p1, p2)\n",
    "# print(cells)\n",
    "\n",
    "plt.plot([p1[0], p2[0]], [p1[1], p2[1]])\n",
    "\n",
    "\n",
    "for q in cells:\n",
    "    plt.plot([q[0], q[0]+1], [q[1], q[1]], 'k')\n",
    "    plt.plot([q[0], q[0]+1], [q[1]+1, q[1]+1], 'k')\n",
    "    plt.plot([q[0], q[0]], [q[1],q[1]+1], 'k')\n",
    "    plt.plot([q[0]+1, q[0]+1], [q[1], q[1]+1], 'k')\n",
    "\n",
    "plt.grid()\n",
    "plt.axis('equal')\n",
    "plt.xlabel(\"X\")\n",
    "plt.ylabel(\"Y\")\n",
    "plt.title(\"Integer based Bresenham algorithm\")\n",
    "plt.show()"
   ]
  },
  {
   "cell_type": "markdown",
   "metadata": {},
   "source": [
    "### Python Bresenham Package\n",
    "For comparison let's have a look at the Python Bresenham package!\n",
    "\n",
    "First we need to install it:"
   ]
  },
  {
   "cell_type": "code",
   "execution_count": 7,
   "metadata": {
    "scrolled": true
   },
   "outputs": [],
   "source": [
    "from bresenham import bresenham"
   ]
  },
  {
   "cell_type": "markdown",
   "metadata": {},
   "source": [
    "Next we can run the same experiment as above and plot it up."
   ]
  },
  {
   "cell_type": "code",
   "execution_count": 8,
   "metadata": {},
   "outputs": [
    {
     "name": "stdout",
     "output_type": "stream",
     "text": [
      "[(0, 0), (1, 1), (2, 1), (3, 2), (4, 3), (5, 4), (6, 4), (7, 5)]\n"
     ]
    },
    {
     "data": {
      "image/png": "[encoded data removed]",
      "text/plain": [
       "<Figure size 864x864 with 1 Axes>"
      ]
     },
     "metadata": {
      "needs_background": "light"
     },
     "output_type": "display_data"
    }
   ],
   "source": [
    "# Note: you can run this for any (x1, y1, x2, y2)\n",
    "line = (0, 0, 7, 5)\n",
    "\n",
    "cells = list(bresenham(line[0], line[1], line[2], line[3]))\n",
    "print(cells)\n",
    "\n",
    "plt.plot([line[0], line[2]], [line[1], line[3]])\n",
    "\n",
    "\n",
    "for q in cells:\n",
    "    plt.plot([q[0], q[0]+1], [q[1], q[1]], 'k')\n",
    "    plt.plot([q[0], q[0]+1], [q[1]+1, q[1]+1], 'k')\n",
    "    plt.plot([q[0], q[0]], [q[1],q[1]+1], 'k')\n",
    "    plt.plot([q[0]+1, q[0]+1], [q[1], q[1]+1], 'k')\n",
    "\n",
    "plt.grid()\n",
    "plt.axis('equal')\n",
    "plt.xlabel(\"X\")\n",
    "plt.ylabel(\"Y\")\n",
    "plt.title(\"Python package Bresenham algorithm\")\n",
    "plt.show()"
   ]
  },
  {
   "cell_type": "code",
   "execution_count": null,
   "metadata": {},
   "outputs": [],
   "source": []
  }
 ],
 "metadata": {
  "kernelspec": {
   "display_name": "drlnd",
   "language": "python",
   "name": "drlnd"
  },
  "language_info": {
   "codemirror_mode": {
    "name": "ipython",
    "version": 3
   },
   "file_extension": ".py",
   "mimetype": "text/x-python",
   "name": "python",
   "nbconvert_exporter": "python",
   "pygments_lexer": "ipython3",
   "version": "3.6.12"
  }
 },
 "nbformat": 4,
 "nbformat_minor": 2
}
