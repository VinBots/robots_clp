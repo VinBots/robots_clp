{
 "cells": [
  {
   "cell_type": "code",
   "execution_count": 3,
   "metadata": {},
   "outputs": [],
   "source": [
    "import numpy as np\n",
    "from localization import local_to_global, global_to_local\n",
    "#from planning_utils import create_grid"
   ]
  },
  {
   "cell_type": "code",
   "execution_count": 39,
   "metadata": {},
   "outputs": [],
   "source": [
    "#global_coord = (-122.396591, 37.793405, 0.0) \n",
    "global_coord = (-122.397450, 37.792480, 0)"
   ]
  },
  {
   "cell_type": "code",
   "execution_count": 40,
   "metadata": {},
   "outputs": [],
   "source": [
    "all_lon=[]\n",
    "all_lat=[]\n",
    "for n in range(-316,605,10):\n",
    "    for e in range(-445,476,10):\n",
    "        global_c = local_to_global((n,e,0), global_coord)\n",
    "        all_lon.append(global_c[0])\n",
    "        all_lat.append(global_c[1])"
   ]
  },
  {
   "cell_type": "code",
   "execution_count": 41,
   "metadata": {},
   "outputs": [
    {
     "name": "stdout",
     "output_type": "stream",
     "text": [
      "Longitude between -122.40107128542968 and -122.39055502515198\n",
      "Latitude between 37.788434060869996 and 37.79677934306897\n"
     ]
    }
   ],
   "source": [
    "print (\"Longitude between {} and {}\".\n",
    "       format(np.array(all_lon).min(),\n",
    "              np.array(all_lon).max()))\n",
    "\n",
    "print (\"Latitude between {} and {}\".\n",
    "       format(np.array(all_lat).min(),\n",
    "              np.array(all_lat).max()))"
   ]
  },
  {
   "cell_type": "code",
   "execution_count": 65,
   "metadata": {},
   "outputs": [],
   "source": [
    "ned_coord_list = [(296, -81, 3), (0, 0, 0), (100, 100, 0), (407, -36, 0), \n",
    "             (95, -276, 0), (-63, -129, 0), (248, 79, 0), (183, -178, 0)]"
   ]
  },
  {
   "cell_type": "code",
   "execution_count": 76,
   "metadata": {},
   "outputs": [],
   "source": [
    "global_c = []\n",
    "for ned in ned_coord_list:\n",
    "    end = (ned[1], ned[0], ned[2])\n",
    "    global_c.append(local_to_global(end, global_coord))"
   ]
  },
  {
   "cell_type": "code",
   "execution_count": 77,
   "metadata": {},
   "outputs": [],
   "source": [
    "global_coord_list = [tuple((a[0], a[1], -a[2])) for a in global_c]"
   ]
  },
  {
   "cell_type": "code",
   "execution_count": 78,
   "metadata": {},
   "outputs": [
    {
     "data": {
      "text/plain": [
       "[(-122.39834830783556, 37.79515246607782, 3.0),\n",
       " (-122.39744999999897, 37.79248000012615, -0.0),\n",
       " (-122.39630693595093, 37.79337545780131, -0.0),\n",
       " (-122.39782909011151, 37.79615026622789, -0.0),\n",
       " (-122.4005777005116, 37.79335219860672, -0.0),\n",
       " (-122.39891969293332, 37.79191968249794, -0.0),\n",
       " (-122.39653459236686, 37.794710561515735, -0.0),\n",
       " (-122.39945825085853, 37.794139649856525, -0.0)]"
      ]
     },
     "execution_count": 78,
     "metadata": {},
     "output_type": "execute_result"
    }
   ],
   "source": [
    "global_coord_list"
   ]
  },
  {
   "cell_type": "code",
   "execution_count": 79,
   "metadata": {},
   "outputs": [
    {
     "name": "stdout",
     "output_type": "stream",
     "text": [
      "[296.00001402 -81.          -3.        ]\n",
      "[1.39954500e-05 1.62981451e-09 0.00000000e+00]\n",
      "[100.00001402 100.           0.        ]\n",
      "[407.00001404 -36.           0.        ]\n",
      "[  95.00001399 -276.            0.        ]\n",
      "[ -62.99998602 -129.            0.        ]\n",
      "[248.00001403  79.           0.        ]\n",
      "[ 183.000014 -178.          0.      ]\n"
     ]
    }
   ],
   "source": [
    "for coord in global_coord_list:\n",
    "    print (global_to_local(coord, global_coord))"
   ]
  },
  {
   "cell_type": "code",
   "execution_count": null,
   "metadata": {},
   "outputs": [],
   "source": []
  },
  {
   "cell_type": "code",
   "execution_count": null,
   "metadata": {},
   "outputs": [],
   "source": []
  },
  {
   "cell_type": "code",
   "execution_count": 21,
   "metadata": {},
   "outputs": [
    {
     "data": {
      "text/plain": [
       "[array([-122.39323517,   37.7926577 ,    2.        ]),\n",
       " array([-122.396591,   37.793405,    5.      ]),\n",
       " array([-122.39544791,   37.79430045,    5.        ]),\n",
       " array([-122.39197118,   37.79305678,    5.        ]),\n",
       " array([-122.39553231,   37.79091196,    5.        ]),\n",
       " array([-122.39731596,   37.79224602,    5.        ]),\n",
       " array([-122.39376854,   37.79410254,    5.        ]),\n",
       " array([-122.39452568,   37.79179007,    5.        ])]"
      ]
     },
     "execution_count": 21,
     "metadata": {},
     "output_type": "execute_result"
    }
   ],
   "source": [
    "global_c"
   ]
  },
  {
   "cell_type": "code",
   "execution_count": 47,
   "metadata": {},
   "outputs": [],
   "source": [
    "f = open ('colliders.csv')\n",
    "first_row = f.readlines()[0].replace('\\n','').split(', ')\n",
    "f.close()\n",
    "lat0 = float(first_row[0].strip('lat0 '))\n",
    "lon0 = float(first_row[1].strip('lon0 '))\n",
    "data = np.loadtxt('colliders.csv', delimiter=',', dtype='Float64', skiprows=2)\n",
    "\n",
    "grid, north_offset, east_offset, grid_size = create_grid(data, 5, 5)"
   ]
  },
  {
   "cell_type": "code",
   "execution_count": 48,
   "metadata": {},
   "outputs": [
    {
     "data": {
      "text/plain": [
       "array([[1., 1., 1., ..., 0., 0., 0.],\n",
       "       [1., 1., 1., ..., 0., 0., 0.],\n",
       "       [1., 1., 1., ..., 0., 0., 0.],\n",
       "       ...,\n",
       "       [0., 0., 0., ..., 0., 0., 0.],\n",
       "       [0., 0., 0., ..., 0., 0., 0.],\n",
       "       [0., 0., 0., ..., 0., 0., 0.]])"
      ]
     },
     "execution_count": 48,
     "metadata": {},
     "output_type": "execute_result"
    }
   ],
   "source": [
    "grid"
   ]
  },
  {
   "cell_type": "code",
   "execution_count": 52,
   "metadata": {},
   "outputs": [],
   "source": [
    "global_home = (-122.396591, 37.793405, 5.0)"
   ]
  },
  {
   "cell_type": "code",
   "execution_count": 176,
   "metadata": {},
   "outputs": [],
   "source": [
    "def random_goal(northrange, east_range, down_range, global_home, \n",
    "                start=(0,0,0), min_dist = 0):\n",
    "    \"\"\"\n",
    "    Returns a random goal, expressed in NED format\n",
    "    ((north, east, down)\n",
    "    \n",
    "    Args:\n",
    "    north_range: tuple(min,max) all inclusive\n",
    "    easth_range: tuple(min,max) all inclusive\n",
    "    down_range: tuple(min,max) all inclusive\n",
    "    global_home: global coordinates of the center of the NED map\n",
    "    start: start location in NED format\n",
    "    min_dist: integer representing the minimum distance between start and goal\n",
    "    \"\"\"\n",
    "    dist = 0\n",
    "    while dist < min_dist:\n",
    "        ned_coord = (np.random.randint(north_range[0], north_range[1]+1),\n",
    "        np.random.randint(east_range[0], east_range[1]+1),\n",
    "        np.random.randint(down_range[0], down_range[1]+1))\n",
    "        dist = np.linalg.norm(np.array(ned_coord) - np.array(start))     \n",
    "    return ned_coord"
   ]
  },
  {
   "cell_type": "code",
   "execution_count": 188,
   "metadata": {},
   "outputs": [
    {
     "data": {
      "text/plain": [
       "(41, 433, -44)"
      ]
     },
     "execution_count": 188,
     "metadata": {},
     "output_type": "execute_result"
    }
   ],
   "source": [
    "global_home = (-122.396591, 37.793405, 0.0)\n",
    "north_range = (-316,605)\n",
    "east_range=(-445, 476)\n",
    "down_range=(-100,0)\n",
    "random_goal(north_range,east_range,down_range, global_home, min_dist = 300)"
   ]
  },
  {
   "cell_type": "code",
   "execution_count": 5,
   "metadata": {},
   "outputs": [
    {
     "data": {
      "text/plain": [
       "[569, -178, 18]"
      ]
     },
     "execution_count": 5,
     "metadata": {},
     "output_type": "execute_result"
    }
   ],
   "source": [
    "goal_ned = (569, -178, 18)\n",
    "new_goal = list(goal_ned)\n",
    "new_goal"
   ]
  },
  {
   "cell_type": "code",
   "execution_count": 6,
   "metadata": {},
   "outputs": [],
   "source": [
    "new_goal.append(2)"
   ]
  },
  {
   "cell_type": "code",
   "execution_count": 7,
   "metadata": {},
   "outputs": [
    {
     "data": {
      "text/plain": [
       "[569, -178, 18, 2]"
      ]
     },
     "execution_count": 7,
     "metadata": {},
     "output_type": "execute_result"
    }
   ],
   "source": [
    "new_goal"
   ]
  },
  {
   "cell_type": "code",
   "execution_count": null,
   "metadata": {},
   "outputs": [],
   "source": []
  }
 ],
 "metadata": {
  "kernelspec": {
   "display_name": "Python 3",
   "language": "python",
   "name": "python3"
  },
  "language_info": {
   "codemirror_mode": {
    "name": "ipython",
    "version": 3
   },
   "file_extension": ".py",
   "mimetype": "text/x-python",
   "name": "python",
   "nbconvert_exporter": "python",
   "pygments_lexer": "ipython3",
   "version": "3.7.6"
  }
 },
 "nbformat": 4,
 "nbformat_minor": 4
}
