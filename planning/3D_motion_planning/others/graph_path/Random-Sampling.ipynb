{
 "cells": [
  {
   "cell_type": "markdown",
   "metadata": {},
   "source": [
    "# Random Sampling\n",
    "\n",
    "In this notebook you'll work with the obstacle's polygon representation itself.\n",
    "\n",
    "Your tasks will be:\n",
    "\n",
    "1. Create polygons.\n",
    "2. Sample random 3D points.\n",
    "3. Remove points contained by an obstacle polygon.\n",
    "\n",
    "Recall, a point $(x, y, z)$ collides with a polygon if the $(x, y)$ coordinates are contained by the polygon and the $z$ coordinate (height) is less than the height of the polygon."
   ]
  },
  {
   "cell_type": "code",
   "execution_count": 1,
   "metadata": {},
   "outputs": [],
   "source": [
    "import time\n",
    "import numpy as np\n",
    "import matplotlib.pyplot as plt\n",
    "from mpl_toolkits.mplot3d import Axes3D\n",
    "from shapely.geometry import Polygon, Point\n",
    "%matplotlib inline "
   ]
  },
  {
   "cell_type": "code",
   "execution_count": 2,
   "metadata": {},
   "outputs": [],
   "source": [
    "plt.rcParams['figure.figsize'] = 12, 12"
   ]
  },
  {
   "cell_type": "code",
   "execution_count": 3,
   "metadata": {},
   "outputs": [
    {
     "name": "stdout",
     "output_type": "stream",
     "text": [
      "[[-310.2389   -439.2315     85.5         5.          5.         85.5     ]\n",
      " [-300.2389   -439.2315     85.5         5.          5.         85.5     ]\n",
      " [-290.2389   -439.2315     85.5         5.          5.         85.5     ]\n",
      " ...\n",
      " [ 257.8061    425.1645      1.75852     1.292725    1.292725    1.944791]\n",
      " [ 293.9967    368.3391      3.557666    1.129456    1.129456    3.667319]\n",
      " [ 281.5162    354.4156      4.999351    1.053772    1.053772    4.950246]]\n"
     ]
    }
   ],
   "source": [
    "# This is the same obstacle data from the previous lesson.\n",
    "filename = 'colliders.csv'\n",
    "data = np.loadtxt(filename, delimiter=',', dtype='Float64', skiprows=2)\n",
    "print(data)"
   ]
  },
  {
   "cell_type": "markdown",
   "metadata": {},
   "source": [
    "## Create Polygons"
   ]
  },
  {
   "cell_type": "code",
   "execution_count": 10,
   "metadata": {},
   "outputs": [],
   "source": [
    "def extract_polygons(data):\n",
    "\n",
    "    polygons = []\n",
    "    for i in range(data.shape[0]):\n",
    "        north, east, alt, d_north, d_east, d_alt = data[i, :]\n",
    "        \n",
    "        # Extract the 4 corners of the obstacle\n",
    "        # \n",
    "        # NOTE: The order of the points matters since\n",
    "        # `shapely` draws the sequentially from point to point.\n",
    "        # The order of the points needs to be counterclockwise\n",
    "        # in order to work with the simple angle test\n",
    "        # Also, `shapely` draws sequentially from point to point.\n",
    "        #\n",
    "        # If the area of the polygon is 0 you've likely got a weird\n",
    "        # order.\n",
    "        obstacle = [north - d_north, north + d_north, east - d_east, east + d_east]\n",
    "        corners = [(obstacle[0], obstacle[2]), (obstacle[0], obstacle[3]), \n",
    "                   (obstacle[1], obstacle[3]), (obstacle[1], obstacle[2])]\n",
    "        \n",
    "        # Compute the height of the polygon\n",
    "        height = alt + d_alt\n",
    "\n",
    "        # Once you've defined corners, define polygons\n",
    "        p = Polygon(corners)\n",
    "        polygons.append((p, height))\n",
    "\n",
    "    return polygons\n"
   ]
  },
  {
   "cell_type": "code",
   "execution_count": 11,
   "metadata": {},
   "outputs": [],
   "source": [
    "polygons = extract_polygons(data)"
   ]
  },
  {
   "cell_type": "code",
   "execution_count": null,
   "metadata": {},
   "outputs": [],
   "source": []
  },
  {
   "cell_type": "markdown",
   "metadata": {},
   "source": [
    "# Sampling 3D Points\n",
    "\n",
    "Now that we have the extracted the polygons, we need to sample random 3D points. Currently we don't know suitable ranges for x, y, and z. Let's figure out the max and min values for each dimension."
   ]
  },
  {
   "cell_type": "code",
   "execution_count": 12,
   "metadata": {},
   "outputs": [
    {
     "name": "stdout",
     "output_type": "stream",
     "text": [
      "X\n",
      "min = -315.2389, max = 604.7611\n",
      "\n",
      "Y\n",
      "min = -444.2315, max = 475.7685\n",
      "\n",
      "Z\n",
      "min = 0, max = 10\n"
     ]
    }
   ],
   "source": [
    "xmin = np.min(data[:, 0] - data[:, 3])\n",
    "xmax = np.max(data[:, 0] + data[:, 3])\n",
    "\n",
    "ymin = np.min(data[:, 1] - data[:, 4])\n",
    "ymax = np.max(data[:, 1] + data[:, 4])\n",
    "\n",
    "zmin = 0\n",
    "# Limit the z axis for the visualization\n",
    "zmax = 10\n",
    "\n",
    "print(\"X\")\n",
    "print(\"min = {0}, max = {1}\\n\".format(xmin, xmax))\n",
    "\n",
    "print(\"Y\")\n",
    "print(\"min = {0}, max = {1}\\n\".format(ymin, ymax))\n",
    "\n",
    "print(\"Z\")\n",
    "print(\"min = {0}, max = {1}\".format(zmin, zmax))"
   ]
  },
  {
   "cell_type": "markdown",
   "metadata": {},
   "source": [
    "Next, it's time to sample points. All that's left is picking the distribution and number of samples. The uniform distribution makes sense in this situation since we we'd like to encourage searching the whole space."
   ]
  },
  {
   "cell_type": "code",
   "execution_count": 13,
   "metadata": {},
   "outputs": [],
   "source": [
    "num_samples = 100\n",
    "\n",
    "xvals = np.random.uniform(xmin, xmax, num_samples)\n",
    "yvals = np.random.uniform(ymin, ymax, num_samples)\n",
    "zvals = np.random.uniform(zmin, zmax, num_samples)\n",
    "\n",
    "samples = list(zip(xvals, yvals, zvals))"
   ]
  },
  {
   "cell_type": "code",
   "execution_count": 14,
   "metadata": {},
   "outputs": [
    {
     "data": {
      "text/plain": [
       "[(26.130341264624747, 340.86471009372246, 3.5253262199086155),\n",
       " (284.7634458877056, -391.27738024205513, 5.189583079770133),\n",
       " (551.0366142423288, -21.080340949604192, 2.7806889719066152),\n",
       " (-114.18201314338873, 6.126432990132685, 4.2422916038960325),\n",
       " (-50.22478504539288, 16.538088484939237, 1.9374549260156593),\n",
       " (-106.20402352612476, 90.41066643737122, 0.6746063829402793),\n",
       " (157.43895565206213, 35.677725502102646, 2.0069210291226423),\n",
       " (-225.523535434039, 139.43006713462557, 7.08708575479052),\n",
       " (72.68974329551304, -312.7023562543443, 2.3950576505942403),\n",
       " (152.6506129793724, 99.74071233314237, 3.7406417478881338)]"
      ]
     },
     "execution_count": 14,
     "metadata": {},
     "output_type": "execute_result"
    }
   ],
   "source": [
    "samples[:10]"
   ]
  },
  {
   "cell_type": "markdown",
   "metadata": {},
   "source": [
    "## Removing Points Colliding With Obstacles\n",
    "\n",
    "Prior to remove a point we must determine whether it collides with any obstacle. Complete the `collides` function below. It should return `True` if the point collides with *any* obstacle and `False` if no collision is detected."
   ]
  },
  {
   "cell_type": "code",
   "execution_count": 15,
   "metadata": {},
   "outputs": [],
   "source": [
    "def collides(polygons, point):   \n",
    "    # Determine whether the point collides\n",
    "    # with any obstacles.     \n",
    "    for (p, height) in polygons:\n",
    "        if p.contains(Point(point)) and height >= point[2]:\n",
    "            return True\n",
    "    return False"
   ]
  },
  {
   "cell_type": "markdown",
   "metadata": {},
   "source": [
    "Use `collides` for all points in the sample."
   ]
  },
  {
   "cell_type": "code",
   "execution_count": 16,
   "metadata": {},
   "outputs": [
    {
     "name": "stdout",
     "output_type": "stream",
     "text": [
      "Time taken {0} seconds ... 3.1873619556427\n"
     ]
    }
   ],
   "source": [
    "t0 = time.time()\n",
    "to_keep = []\n",
    "for point in samples:\n",
    "    if not collides(polygons, point):\n",
    "        to_keep.append(point)\n",
    "time_taken = time.time() - t0\n",
    "print(\"Time taken {0} seconds ...\", time_taken)"
   ]
  },
  {
   "cell_type": "code",
   "execution_count": 17,
   "metadata": {},
   "outputs": [
    {
     "name": "stdout",
     "output_type": "stream",
     "text": [
      "56\n"
     ]
    }
   ],
   "source": [
    "print(len(to_keep))"
   ]
  },
  {
   "cell_type": "markdown",
   "metadata": {},
   "source": [
    "## Points Visualization"
   ]
  },
  {
   "cell_type": "code",
   "execution_count": 18,
   "metadata": {},
   "outputs": [],
   "source": [
    "from grid import create_grid\n",
    "grid = create_grid(data, zmax, 1)"
   ]
  },
  {
   "cell_type": "code",
   "execution_count": 19,
   "metadata": {},
   "outputs": [
    {
     "data": {
      "image/png": "[encoded data removed]",
      "text/plain": [
       "<Figure size 864x864 with 1 Axes>"
      ]
     },
     "metadata": {
      "needs_background": "light"
     },
     "output_type": "display_data"
    }
   ],
   "source": [
    "fig = plt.figure()\n",
    "\n",
    "plt.imshow(grid, cmap='Greys', origin='lower')\n",
    "\n",
    "nmin = np.min(data[:, 0])\n",
    "emin = np.min(data[:, 1])\n",
    "\n",
    "# draw points\n",
    "all_pts = np.array(to_keep)\n",
    "north_vals = all_pts[:,0]\n",
    "east_vals = all_pts[:,1]\n",
    "plt.scatter(east_vals - emin, north_vals - nmin, c='red')\n",
    "\n",
    "plt.ylabel('NORTH')\n",
    "plt.xlabel('EAST')\n",
    "\n",
    "plt.show()"
   ]
  },
  {
   "cell_type": "code",
   "execution_count": 20,
   "metadata": {},
   "outputs": [
    {
     "data": {
      "text/plain": [
       "[(26.130341264624747, 340.86471009372246, 3.5253262199086155),\n",
       " (284.7634458877056, -391.27738024205513, 5.189583079770133),\n",
       " (-114.18201314338873, 6.126432990132685, 4.2422916038960325),\n",
       " (-106.20402352612476, 90.41066643737122, 0.6746063829402793),\n",
       " (157.43895565206213, 35.677725502102646, 2.0069210291226423),\n",
       " (-225.523535434039, 139.43006713462557, 7.08708575479052),\n",
       " (152.6506129793724, 99.74071233314237, 3.7406417478881338),\n",
       " (396.50265370144, 229.32411224334976, 8.535515331116034),\n",
       " (130.85199756627298, 267.1652447491032, 9.712565074782269),\n",
       " (371.1755025860754, 139.29053416829083, 1.9961690665385834),\n",
       " (391.672226741515, 406.9125093188592, 2.9993457753667863),\n",
       " (-265.39205758530966, 110.85409688336665, 3.649608505132206),\n",
       " (-38.05099601024688, -42.444012131339434, 9.156042739009433),\n",
       " (-282.6331921027598, -349.7231472544919, 3.8070043020231994),\n",
       " (398.66990107153896, 57.30951816164281, 6.538114130234795),\n",
       " (-3.3648864607351925, 27.608071442033406, 1.0562308385695862),\n",
       " (416.4503969662913, -102.25226416683614, 5.07277865822423),\n",
       " (-0.04044031750385102, 263.08388180987254, 6.1861431631072765),\n",
       " (-9.507585858213247, 294.8009026978667, 3.425199985674563),\n",
       " (338.0988635368205, 261.7815869830647, 6.271860209314481),\n",
       " (352.9784685727414, 47.55748426429767, 3.9486899071828194),\n",
       " (-248.69197576082354, -336.16241983957383, 5.909095811821379),\n",
       " (-5.609084098688584, 287.13216592089634, 9.76859453364779),\n",
       " (-112.07057282328256, 43.73022358972224, 3.1454920145186804),\n",
       " (524.9807006444285, -326.7848676519179, 2.017266243915139),\n",
       " (118.82053596975601, -103.33472502880062, 4.952494255086194),\n",
       " (-272.1982378436407, -226.34181992332384, 0.5181378806264947),\n",
       " (259.68040186216825, 73.75569386666223, 9.920846059120818),\n",
       " (547.9964230308519, 231.01452080739773, 4.625069818636134),\n",
       " (-177.01474641602667, 203.1296795033229, 9.770405519752286),\n",
       " (477.3649403111752, -39.49816013140037, 2.747255446940169),\n",
       " (107.65130529199985, -169.57709425782934, 5.096606926857464),\n",
       " (-150.58082233373725, 55.810039570554295, 7.644230152246139),\n",
       " (-11.079422329620002, -402.94581286696933, 0.3466383326720368),\n",
       " (236.40716923167082, -99.20044890339204, 8.984484735538214),\n",
       " (-285.4673442415924, -56.447000026372336, 9.485465621250217),\n",
       " (600.6339589372819, 183.71521091441969, 1.4027257152152828),\n",
       " (374.843819287533, 58.03630498350077, 4.1873237220134545),\n",
       " (-170.83466995958491, 161.93712770211937, 3.783026701504719),\n",
       " (527.4245865719181, 419.39337653674465, 0.75087225057341),\n",
       " (-45.18951342015845, -346.2570506405351, 9.125407986514363),\n",
       " (-13.957172864635481, 313.60629695404054, 0.9475832603983703),\n",
       " (-274.13558964903774, 88.58734870640285, 1.6134700961537252),\n",
       " (563.1831977546733, 67.85808354073288, 4.132038976742832),\n",
       " (361.79273269167305, -181.0531074705881, 8.862810441351145),\n",
       " (-273.0966710189583, -139.90335527946706, 5.547320757443837),\n",
       " (-85.53571059370341, -25.354818549425147, 4.050897104176258),\n",
       " (98.68911536406603, 229.08646896455923, 4.083683523851656),\n",
       " (558.8551568426933, 24.657236730323916, 7.059509561710584),\n",
       " (126.72644405967736, -413.0336147964269, 3.7468340958749327),\n",
       " (388.12144315803886, 382.51754422863485, 7.530105478088037),\n",
       " (542.2885645752865, 429.6176440161147, 0.8545645934238044),\n",
       " (51.27829791524442, 303.83100661166634, 6.340828545137233),\n",
       " (7.442622318667816, -431.8779372976277, 7.130645605214926),\n",
       " (-157.45919630939622, -365.8780630775671, 4.691631727462056),\n",
       " (440.2705692406989, 159.52895333624224, 2.121236091769083)]"
      ]
     },
     "execution_count": 20,
     "metadata": {},
     "output_type": "execute_result"
    }
   ],
   "source": [
    "to_keep"
   ]
  },
  {
   "cell_type": "markdown",
   "metadata": {},
   "source": [
    "[Solution](/notebooks/Random-Sampling-Solution.ipynb)"
   ]
  },
  {
   "cell_type": "markdown",
   "metadata": {},
   "source": [
    "## Epilogue\n",
    "\n",
    "You may have noticed removing points can be quite lengthy. In the implementation provided here we're naively checking to see if the point collides with each polygon when in reality it can only collide with one, the one that's closest to the point. The question then becomes \n",
    "\n",
    "\"How do we efficiently find the closest polygon to the point?\"\n",
    "\n",
    "One such approach is to use a *[k-d tree](https://en.wikipedia.org/wiki/K-d_tree)*, a space-partitioning data structure which allows search queries in $O(log(n))$. The *k-d tree* achieves this by cutting the search space in half on each step of a query.\n",
    "\n",
    "This would bring the total algorithm time down to $O(m * log(n))$ from $O(m*n)$.\n",
    "\n",
    "The scikit-learn library has an efficient implementation [readily available](http://scikit-learn.org/stable/modules/generated/sklearn.neighbors.KDTree.html#sklearn.neighbors.KDTree)."
   ]
  },
  {
   "cell_type": "code",
   "execution_count": null,
   "metadata": {},
   "outputs": [],
   "source": []
  },
  {
   "cell_type": "code",
   "execution_count": null,
   "metadata": {},
   "outputs": [],
   "source": []
  }
 ],
 "metadata": {
  "kernelspec": {
   "display_name": "drlnd",
   "language": "python",
   "name": "drlnd"
  },
  "language_info": {
   "codemirror_mode": {
    "name": "ipython",
    "version": 3
   },
   "file_extension": ".py",
   "mimetype": "text/x-python",
   "name": "python",
   "nbconvert_exporter": "python",
   "pygments_lexer": "ipython3",
   "version": "3.6.12"
  }
 },
 "nbformat": 4,
 "nbformat_minor": 2
}
