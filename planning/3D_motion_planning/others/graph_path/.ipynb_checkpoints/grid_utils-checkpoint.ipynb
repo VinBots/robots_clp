{
 "cells": [
  {
   "cell_type": "code",
   "execution_count": 10,
   "metadata": {},
   "outputs": [
    {
     "data": {
      "text/plain": [
       "'\\nUtility functions below use the following name conventions:\\nm_coord_foo : coordinates of foo expressed in the 2D-NE format. For example, array[-258.5, -10.4]\\ng_coord_foo : coordinates of foo expressed in the 2D-grid format. For example, array[5, 10]\\n\\nA grid is defined as a dictionary:\\n{\\n\"Name\": name of the grid,\\n\"origin\": coordinates of the origin expressed in the NED format - m_coord_ref\\n\"offset\"(): offset values expressed in number of square grids. \\nFor example, a 5 x 5 grid can move its origin to the center with Offset = [-2,-2]\\n\"resolution\": number of square grids per meter. \\nFor example, 10 means each square of 1m will be divided into 100 grids\\n\"size\": the size of the grid - for example, (20,20),\\n\"data\": the grid filled with some values, usually 0 for free space, 1 for occupied space\\n}\\n\\nA map is defined as a dictionary:\\n{\\n\"Name\": name of the map\\n\"Origin\": this is the center of the map expressed in geodetic format - (lon0, lat0, alt0)\\n\"Unit\": must be expressed in meters\\n\"Data\": data representing obstacles,\\n\"min_max_east_north\":(east_min, east_max, north_min, north_max)\\n}\\n'"
      ]
     },
     "execution_count": 10,
     "metadata": {},
     "output_type": "execute_result"
    }
   ],
   "source": [
    "\"\"\"\n",
    "Utility functions below use the following name conventions:\n",
    "m_coord_foo : coordinates of foo expressed in the 2D-NE format. For example, array[-258.5, -10.4]\n",
    "g_coord_foo : coordinates of foo expressed in the 2D-grid format. For example, array[5, 10]\n",
    "\n",
    "A grid is defined as a dictionary:\n",
    "{\n",
    "\"Name\": name of the grid,\n",
    "\"origin\": coordinates of the origin expressed in the NED format - m_coord_ref\n",
    "\"offset\"(): offset values expressed in number of square grids. \n",
    "For example, a 5 x 5 grid can move its origin to the center with Offset = [-2,-2]\n",
    "\"resolution\": number of square grids per meter. \n",
    "For example, 10 means each square of 1m will be divided into 100 grids\n",
    "\"size\": the size of the grid - for example, (20,20),\n",
    "\"data\": the grid filled with some values, usually 0 for free space, 1 for occupied space\n",
    "}\n",
    "\n",
    "A map is defined as a dictionary:\n",
    "{\n",
    "\"Name\": name of the map\n",
    "\"Origin\": this is the center of the map expressed in geodetic format - (lon0, lat0, alt0)\n",
    "\"Unit\": must be expressed in meters\n",
    "\"Data\": data representing obstacles,\n",
    "\"min_max_east_north\":(east_min, east_max, north_min, north_max)\n",
    "}\n",
    "\"\"\"\n"
   ]
  },
  {
   "cell_type": "code",
   "execution_count": 11,
   "metadata": {},
   "outputs": [],
   "source": [
    "import numpy as np"
   ]
  },
  {
   "cell_type": "code",
   "execution_count": 12,
   "metadata": {},
   "outputs": [],
   "source": [
    "def create_grid_from_map(my_map, drone_altitude, safety_distance, resolution = 1):\n",
    "    \"\"\"\n",
    "    Returns a grid representation of a 2D configuration space\n",
    "    based on given obstacle data, drone altitude and safety distance\n",
    "    arguments.\n",
    "    \"\"\"\n",
    "    \n",
    "    data = my_map[\"data\"]\n",
    "\n",
    "    # minimum and maximum north coordinates\n",
    "    north_min = np.floor(np.min(data[:, 0] - data[:, 3]))\n",
    "    north_max = np.ceil(np.max(data[:, 0] + data[:, 3]))\n",
    "\n",
    "    # minimum and maximum east coordinates\n",
    "    east_min = np.floor(np.min(data[:, 1] - data[:, 4]))\n",
    "    east_max = np.ceil(np.max(data[:, 1] + data[:, 4]))\n",
    "\n",
    "    # given the minimum and maximum coordinates we can\n",
    "    # calculate the size of the grid.\n",
    "    north_size = int(np.ceil(north_max - north_min) / resolution)\n",
    "    east_size = int(np.ceil(east_max - east_min) / resolution)\n",
    "\n",
    "    # Initialize an empty grid\n",
    "    grid_size = (north_size, east_size)\n",
    "    grid = np.zeros(grid_size)\n",
    "\n",
    "    # Populate the grid with obstacles\n",
    "    for i in range(data.shape[0]):\n",
    "        north, east, alt, d_north, d_east, d_alt = data[i, :]\n",
    "        if alt + d_alt + safety_distance > drone_altitude:\n",
    "            obstacle = [\n",
    "                int(np.clip((north - d_north - safety_distance - north_min) / resolution, 0, north_size-1)),\n",
    "                int(np.clip((north + d_north + safety_distance - north_min) / resolution, 0, north_size-1)),\n",
    "                int(np.clip((east - d_east - safety_distance - east_min) / resolution, 0, east_size-1)),\n",
    "                int(np.clip((east + d_east + safety_distance - east_min) / resolution, 0, east_size-1)),\n",
    "            ]\n",
    "            grid[obstacle[0]:obstacle[1]+1, obstacle[2]:obstacle[3]+1] = 1\n",
    "\n",
    "    return grid, int(north_min), int(east_min), grid_size"
   ]
  },
  {
   "cell_type": "code",
   "execution_count": 13,
   "metadata": {},
   "outputs": [],
   "source": [
    "def map_to_grid(m_coord_pt, grid):\n",
    "    \"\"\"\n",
    "    Converts map coordinates to a grid coordinate\n",
    "    \"\"\"\n",
    "    g_coord = [int((m_coord_pt[0] - grid[\"origin\"][0]) / grid[\"resolution\"]),\n",
    "                 int((m_coord_pt[1] - grid[\"origin\"][1]) / grid[\"resolution\"])]\n",
    "    return g_coord\n",
    "\n",
    "def grid_to_map(g_coord, grid):\n",
    "    \"\"\"\n",
    "    Converts grid coordinates to a map coordinate\n",
    "    \"\"\"\n",
    "    m_coord = [g_coord[0] * grid[\"resolution\"] + grid[\"origin\"][0],\n",
    "                 g_coord[1] * grid[\"resolution\"] + grid[\"origin\"][1]]\n",
    "    return m_coord\n",
    "\n",
    "def grid_to_grid(g_coord, grid_a, grid_b):\n",
    "    \"\"\"\n",
    "    Converts a grid A coordinate to a grid B coordinate\n",
    "    \"\"\"\n",
    "    m_coord = grid_to_map(g_coord, grid_a)\n",
    "    return map_to_grid(m_coord, grid_b)"
   ]
  },
  {
   "cell_type": "markdown",
   "metadata": {},
   "source": [
    "3D Utility Functions\n",
    "\n",
    "m_coord_foo : coordinates of foo expressed in the 3D-NED format. For example, array[-258.5, -10.4, -5.0]\n",
    "g_coord_foo : coordinates of foo expressed in the 3D-grid format. For example, array[5, 10, -5.0]\n",
    "\n"
   ]
  },
  {
   "cell_type": "code",
   "execution_count": 14,
   "metadata": {},
   "outputs": [],
   "source": [
    "def map_to_grid_3D(m_coord_pt, grid):\n",
    "    \"\"\"\n",
    "    Converts map coordinates to a grid coordinate\n",
    "    \"\"\"\n",
    "    g_coord = [int((m_coord_pt[0] - grid[\"origin\"][0]) / grid[\"resolution\"]),\n",
    "               int((m_coord_pt[1] - grid[\"origin\"][1]) / grid[\"resolution\"]),\n",
    "               int((m_coord_pt[2] - grid[\"origin\"][2]) / grid[\"resolution\"])]\n",
    "    return g_coord\n",
    "\n",
    "def grid_to_map_3D(g_coord, grid):\n",
    "    \"\"\"\n",
    "    Converts grid coordinates to a map coordinate\n",
    "    \"\"\"\n",
    "    m_coord = [g_coord[0] * grid[\"resolution\"] + grid[\"origin\"][0],\n",
    "               g_coord[1] * grid[\"resolution\"] + grid[\"origin\"][1],\n",
    "               g_coord[2] * grid[\"resolution\"] + grid[\"origin\"][2]]\n",
    "    return m_coord\n",
    "\n",
    "def grid_to_grid_3D(g_coord, grid_a, grid_b):\n",
    "    \"\"\"\n",
    "    Converts a 3D_grid A coordinate to a 3D_grid B coordinate\n",
    "    \"\"\"\n",
    "    m_coord = grid_to_map_3D(g_coord, grid_a)\n",
    "    return map_to_grid_3D(m_coord, grid_b)"
   ]
  },
  {
   "cell_type": "code",
   "execution_count": 15,
   "metadata": {},
   "outputs": [],
   "source": [
    "def create_moving_grid(current_loc, name, grid_size, res):\n",
    "    \"\"\"\n",
    "    Creates a grid with the current location as the center of the grid\n",
    "    \"\"\"\n",
    "    \n",
    "    grid = {\n",
    "    \"name\": name,\n",
    "    \"origin\": np.array(current_loc[:2]) - np.array(grid_size) / 2,\n",
    "    \"offset\": (0,0),\n",
    "    \"resolution\": res,\n",
    "    \"size\": grid_size,\n",
    "    \"data\": np.zeros(grid_size)   \n",
    "    }\n",
    "    return grid"
   ]
  },
  {
   "cell_type": "code",
   "execution_count": 16,
   "metadata": {},
   "outputs": [],
   "source": [
    "def in_grid(m_coord_pt, grid):\n",
    "    \"\"\"\n",
    "    Returns True if a point with map coordinates m_coord_pt is in grid\n",
    "    \"\"\"\n",
    "    g_coord_pt = map_to_grid(m_coord_pt, grid)\n",
    "    test = (0<=g_coord_pt[0]<grid[\"size\"][0]) and (0<=g_coord_pt[1]<grid[\"size\"][1])\n",
    "    return test"
   ]
  },
  {
   "cell_type": "code",
   "execution_count": 230,
   "metadata": {},
   "outputs": [],
   "source": [
    "def in_grid_3D(m_coord_pt, grid):\n",
    "    \"\"\"\n",
    "    Returns True if a point with map coordinates m_coord_pt is in grid\n",
    "    \"\"\"\n",
    "    g_coord_pt = map_to_grid_3D(m_coord_pt, grid)\n",
    "    for i in range(len(m_coord_pt)):\n",
    "        if not (0<=g_coord_pt[i]<grid[\"size\"][i]):\n",
    "            return False\n",
    "    return True"
   ]
  },
  {
   "cell_type": "code",
   "execution_count": null,
   "metadata": {},
   "outputs": [],
   "source": []
  },
  {
   "cell_type": "code",
   "execution_count": 231,
   "metadata": {},
   "outputs": [],
   "source": [
    "def intersect_grid_pts (pt_a, pt_b, grid):\n",
    "    \"\"\"\n",
    "    Finds the point at the intersection of the line formed by 2 points and the grid\n",
    "    Assumes we move from pt_a to pt_b\n",
    "    \"\"\"\n",
    "    \n",
    "    # Notation: y = mx + b - linear Equation\n",
    "    if abs((pt_b[1] - pt_a[1])) > 0.1:\n",
    "        m = (pt_b[0] - pt_a[0])/(pt_b[1] - pt_a[1])\n",
    "        \n",
    "        if m == 0:\n",
    "            b = pt_a[0]\n",
    "        else:\n",
    "            b = (pt_b[1] * pt_a[0] - pt_a[1] * pt_b[0]) / (pt_b[1] - pt_a[1])\n",
    "            \n",
    "            if pt_b[0] > pt_a[0]:\n",
    "                y1 = grid[\"origin\"][0] + \\\n",
    "                grid[\"size\"][0] * grid[\"resolution\"] - \\\n",
    "                grid[\"resolution\"] /2\n",
    "                x1 = (y1 - b) / m\n",
    "            else:\n",
    "                y1 = grid[\"origin\"][0] + \\\n",
    "                grid[\"resolution\"] /2\n",
    "                x1 = (y1 - b) / m\n",
    "\n",
    "        if pt_b[1] > pt_a[1]:\n",
    "            x2 = grid[\"origin\"][1] + \\\n",
    "            grid[\"size\"][1] * grid[\"resolution\"] - \\\n",
    "            grid[\"resolution\"] /2\n",
    "            y2 = m * x2 + b\n",
    "        else:\n",
    "            x2 = grid[\"origin\"][1] + \\\n",
    "            grid[\"resolution\"] /2\n",
    "            y2 = m * x2 + b\n",
    "        \n",
    "        #print (\"The 2 possible points are: {}, {}\".format([y1, x1], [y2, x2]))\n",
    "        if in_grid(np.array([y2, x2]), grid):\n",
    "            inter_pt = np.array([y2, x2])\n",
    "        else:\n",
    "            inter_pt = np.array([y1, x1])\n",
    "    \n",
    "    else:\n",
    "        x1 = pt_b[1]\n",
    "        if pt_b[0] > pt_a[0]:\n",
    "            y1 = grid[\"origin\"][0] + \\\n",
    "            grid[\"size\"][0] * grid[\"resolution\"] - \\\n",
    "            grid[\"resolution\"] /2\n",
    "        else:\n",
    "            y1 = grid[\"origin\"][0] + \\\n",
    "            grid[\"resolution\"] /2\n",
    "        inter_pt = np.array([y1, x1])\n",
    "        \n",
    "    return inter_pt"
   ]
  },
  {
   "cell_type": "markdown",
   "metadata": {},
   "source": [
    "# Creation of a map and 2 grids"
   ]
  },
  {
   "cell_type": "code",
   "execution_count": 232,
   "metadata": {},
   "outputs": [],
   "source": [
    "altitude = 5"
   ]
  },
  {
   "cell_type": "code",
   "execution_count": 233,
   "metadata": {},
   "outputs": [],
   "source": [
    "data = np.loadtxt('colliders.csv', delimiter=',', dtype='Float64', skiprows=2)\n",
    "# minimum and maximum north coordinates\n",
    "north_min = np.floor(np.min(data[:, 0] - data[:, 3]))\n",
    "north_max = np.ceil(np.max(data[:, 0] + data[:, 3]))\n",
    "\n",
    "# minimum and maximum east coordinates\n",
    "east_min = np.floor(np.min(data[:, 1] - data[:, 4]))\n",
    "east_max = np.ceil(np.max(data[:, 1] + data[:, 4]))\n"
   ]
  },
  {
   "cell_type": "code",
   "execution_count": 234,
   "metadata": {},
   "outputs": [],
   "source": [
    "my_map = {\n",
    "    \"name\": \"My NED map\",\n",
    "    \"origin\": (-122.396591, 37.793405, 5.0),\n",
    "    \"unit\": \"meter\",\n",
    "    \"data\": data,\n",
    "    \"min_max_east_north\":(east_min, east_max, north_min, north_max)\n",
    "         }"
   ]
  },
  {
   "cell_type": "code",
   "execution_count": 235,
   "metadata": {},
   "outputs": [],
   "source": [
    "my_map_data = np.zeros((10,12))\n",
    "my_map_data[1,2]=1\n",
    "my_map_data[2,2]=1\n",
    "my_map_data[3,2]=1\n",
    "my_map_data[3,3]=1\n",
    "my_map_data[4,4]=1"
   ]
  },
  {
   "cell_type": "code",
   "execution_count": 236,
   "metadata": {},
   "outputs": [],
   "source": [
    "grid, north_offset, east_offset, grid_size = create_grid_from_map (my_map, 5, 5, 1)"
   ]
  },
  {
   "cell_type": "code",
   "execution_count": 237,
   "metadata": {},
   "outputs": [],
   "source": [
    "my_grid = {\n",
    "    \"name\": \"Grid from map\",\n",
    "    \"origin\": (0, 0, 0),\n",
    "    \"offset\": (0,0),\n",
    "    \"resolution\": 1,\n",
    "    \"size\": grid_size,\n",
    "    \"data\": grid    \n",
    "}"
   ]
  },
  {
   "cell_type": "code",
   "execution_count": 238,
   "metadata": {},
   "outputs": [],
   "source": [
    "another_moving_grid = create_moving_grid(current_loc = (12.5,22.5), \n",
    "                                         name = \"Another moving grid\", \n",
    "                                         grid_size = (5,5), \n",
    "                                         res = 1)"
   ]
  },
  {
   "cell_type": "code",
   "execution_count": 239,
   "metadata": {},
   "outputs": [],
   "source": [
    "my_moving_grid = {\n",
    "    \"name\": \"My Moving Grid\",\n",
    "    \"origin\": (10,20),\n",
    "    \"offset\": (0,0),\n",
    "    \"resolution\": 1,\n",
    "    \"size\": (5,5),\n",
    "    \"data\": np.zeros((5,5))    \n",
    "}"
   ]
  },
  {
   "cell_type": "code",
   "execution_count": 240,
   "metadata": {},
   "outputs": [
    {
     "data": {
      "text/plain": [
       "{'name': 'My Moving Grid',\n",
       " 'origin': (10, 20),\n",
       " 'offset': (0, 0),\n",
       " 'resolution': 1,\n",
       " 'size': (5, 5),\n",
       " 'data': array([[0., 0., 0., 0., 0.],\n",
       "        [0., 0., 0., 0., 0.],\n",
       "        [0., 0., 0., 0., 0.],\n",
       "        [0., 0., 0., 0., 0.],\n",
       "        [0., 0., 0., 0., 0.]])}"
      ]
     },
     "execution_count": 240,
     "metadata": {},
     "output_type": "execute_result"
    }
   ],
   "source": [
    "my_moving_grid"
   ]
  },
  {
   "cell_type": "code",
   "execution_count": 241,
   "metadata": {},
   "outputs": [
    {
     "data": {
      "text/plain": [
       "{'name': 'Another moving grid',\n",
       " 'origin': array([10., 20.]),\n",
       " 'offset': (0, 0),\n",
       " 'resolution': 1,\n",
       " 'size': (5, 5),\n",
       " 'data': array([[0., 0., 0., 0., 0.],\n",
       "        [0., 0., 0., 0., 0.],\n",
       "        [0., 0., 0., 0., 0.],\n",
       "        [0., 0., 0., 0., 0.],\n",
       "        [0., 0., 0., 0., 0.]])}"
      ]
     },
     "execution_count": 241,
     "metadata": {},
     "output_type": "execute_result"
    }
   ],
   "source": [
    "another_moving_grid"
   ]
  },
  {
   "cell_type": "markdown",
   "metadata": {},
   "source": [
    "## Test map_to_grid and grid_to_map"
   ]
  },
  {
   "cell_type": "code",
   "execution_count": 242,
   "metadata": {
    "scrolled": true
   },
   "outputs": [
    {
     "name": "stdout",
     "output_type": "stream",
     "text": [
      "The point [-30, 12] is in the grid position: [-30, 12]\n"
     ]
    }
   ],
   "source": [
    "m_coord_pt = [-30, 12]\n",
    "print (\"The point {} is in the grid position: {}\".\n",
    "       format(m_coord_pt, map_to_grid(m_coord_pt, my_grid)))"
   ]
  },
  {
   "cell_type": "code",
   "execution_count": 243,
   "metadata": {},
   "outputs": [
    {
     "name": "stdout",
     "output_type": "stream",
     "text": [
      "The point [-30, 12] back in the map coordinates is: [-60, 24]\n"
     ]
    }
   ],
   "source": [
    "g_coord_pt = [-30, 12]\n",
    "my_grid[\"resolution\"] = 2\n",
    "print (\"The point {} back in the map coordinates is: {}\".\n",
    "       format(g_coord_pt, grid_to_map(g_coord_pt, my_grid)))"
   ]
  },
  {
   "cell_type": "markdown",
   "metadata": {},
   "source": [
    "## Test grid_to_moving_grid"
   ]
  },
  {
   "cell_type": "code",
   "execution_count": 244,
   "metadata": {},
   "outputs": [
    {
     "name": "stdout",
     "output_type": "stream",
     "text": [
      "The point in my_grid [0, 0] in the moving_grid coordinates is: [250, -15]\n"
     ]
    }
   ],
   "source": [
    "g_coord_pt = [0, 0]\n",
    "my_moving_grid[\"origin\"] = (-250, 15)\n",
    "my_moving_grid[\"resolution\"] = 1\n",
    "\n",
    "print (\"The point in my_grid {} in the moving_grid coordinates is: {}\".\n",
    "       format(g_coord_pt, grid_to_grid(g_coord_pt, my_grid, my_moving_grid)))"
   ]
  },
  {
   "cell_type": "markdown",
   "metadata": {},
   "source": [
    "## Test map_to_moving_grid"
   ]
  },
  {
   "cell_type": "code",
   "execution_count": 245,
   "metadata": {},
   "outputs": [
    {
     "name": "stdout",
     "output_type": "stream",
     "text": [
      "The point in map [-30, 12] in the moving_grid coordinates is: [2, 2]\n"
     ]
    }
   ],
   "source": [
    "m_coord_pt = [-30, 12]\n",
    "my_moving_grid[\"origin\"] = (-32, 10)\n",
    "my_moving_grid[\"resolution\"] = 1\n",
    "print (\"The point in map {} in the moving_grid coordinates is: {}\".\n",
    "       format(m_coord_pt, map_to_grid(m_coord_pt, my_moving_grid)))"
   ]
  },
  {
   "cell_type": "markdown",
   "metadata": {},
   "source": [
    "## Test in_grid"
   ]
  },
  {
   "cell_type": "code",
   "execution_count": 246,
   "metadata": {},
   "outputs": [
    {
     "data": {
      "text/plain": [
       "{'name': 'My Moving Grid',\n",
       " 'origin': (-32, 10),\n",
       " 'offset': (0, 0),\n",
       " 'resolution': 1,\n",
       " 'size': (5, 5),\n",
       " 'data': array([[0., 0., 0., 0., 0.],\n",
       "        [0., 0., 0., 0., 0.],\n",
       "        [0., 0., 0., 0., 0.],\n",
       "        [0., 0., 0., 0., 0.],\n",
       "        [0., 0., 0., 0., 0.]])}"
      ]
     },
     "execution_count": 246,
     "metadata": {},
     "output_type": "execute_result"
    }
   ],
   "source": [
    "my_moving_grid"
   ]
  },
  {
   "cell_type": "code",
   "execution_count": 247,
   "metadata": {},
   "outputs": [
    {
     "name": "stdout",
     "output_type": "stream",
     "text": [
      "True\n"
     ]
    },
    {
     "data": {
      "text/plain": [
       "[4, 4]"
      ]
     },
     "execution_count": 247,
     "metadata": {},
     "output_type": "execute_result"
    }
   ],
   "source": [
    "m_coord_pt = [-28, 14]\n",
    "print (in_grid(m_coord_pt, my_moving_grid))\n",
    "map_to_grid(m_coord_pt, my_moving_grid)"
   ]
  },
  {
   "cell_type": "code",
   "execution_count": 248,
   "metadata": {},
   "outputs": [],
   "source": [
    "my_moving_3D_grid = {\n",
    "    \"name\": \"My Moving Grid\",\n",
    "    \"origin\": (10,20,5),\n",
    "    \"offset\": (0,0,0),\n",
    "    \"resolution\": 1,\n",
    "    \"size\": (5,5,5),\n",
    "    \"data\": np.zeros((5,5))    \n",
    "}"
   ]
  },
  {
   "cell_type": "code",
   "execution_count": 249,
   "metadata": {},
   "outputs": [
    {
     "name": "stdout",
     "output_type": "stream",
     "text": [
      "True\n"
     ]
    }
   ],
   "source": [
    "m_coord_pt = [14, 24, 9]\n",
    "print (in_grid_3D(m_coord_pt, my_moving_3D_grid))\n"
   ]
  },
  {
   "cell_type": "code",
   "execution_count": 250,
   "metadata": {},
   "outputs": [],
   "source": [
    "current_loc = [-29.5, 12.5]\n",
    "g_coord_current_loc = map_to_grid(current_loc, my_moving_grid)\n",
    "wp1 = [-28,13]\n",
    "wp2 = [-27,20]\n",
    "wp3 = [-26,13.5]\n",
    "all_wp = [wp1, wp2, wp3]"
   ]
  },
  {
   "cell_type": "code",
   "execution_count": 251,
   "metadata": {},
   "outputs": [],
   "source": [
    "for wp in all_wp:\n",
    "    if not in_grid(wp, my_moving_grid):\n",
    "        out_wp = wp\n",
    "        break\n",
    "    else:\n",
    "        last_wp = wp"
   ]
  },
  {
   "cell_type": "code",
   "execution_count": 252,
   "metadata": {},
   "outputs": [
    {
     "data": {
      "text/plain": [
       "([-28, 13], [-27, 20])"
      ]
     },
     "execution_count": 252,
     "metadata": {},
     "output_type": "execute_result"
    }
   ],
   "source": [
    "(last_wp, out_wp)"
   ]
  },
  {
   "cell_type": "code",
   "execution_count": 253,
   "metadata": {},
   "outputs": [
    {
     "name": "stdout",
     "output_type": "stream",
     "text": [
      "[-27.78571429  14.5       ]\n"
     ]
    }
   ],
   "source": [
    "goal = intersect_grid_pts(last_wp, out_wp, my_moving_grid)\n",
    "print (goal)"
   ]
  },
  {
   "cell_type": "code",
   "execution_count": null,
   "metadata": {},
   "outputs": [],
   "source": []
  },
  {
   "cell_type": "code",
   "execution_count": null,
   "metadata": {},
   "outputs": [],
   "source": []
  },
  {
   "cell_type": "code",
   "execution_count": null,
   "metadata": {},
   "outputs": [],
   "source": []
  },
  {
   "cell_type": "markdown",
   "metadata": {},
   "source": [
    "## Test Intersect_grid_pts"
   ]
  },
  {
   "cell_type": "code",
   "execution_count": 254,
   "metadata": {},
   "outputs": [
    {
     "name": "stdout",
     "output_type": "stream",
     "text": [
      "LEFT\n",
      "[106.28571429 200.5       ]\n",
      "RIGHT\n",
      "[1.28571429 4.5       ]\n",
      "TOP\n",
      "[ 4.5 -1.8]\n",
      "TOP\n",
      "[4.5 1.8]\n",
      "Bottom\n",
      "[-4.5 -1.8]\n",
      "Bottom\n",
      "[-4.5  1.8]\n",
      "RIGHT\n",
      "[-1.28571429  4.5       ]\n",
      "Left\n",
      "[-1.28571429 -4.5       ]\n",
      "Bottom only\n",
      "[100.5 205. ]\n",
      "Top only\n",
      "[109.5 205. ]\n",
      "Right only\n",
      "[105.  209.5]\n",
      "Left only\n",
      "[105.  200.5]\n"
     ]
    }
   ],
   "source": [
    "my_test_grid = {\n",
    "    \"name\": \"My Test Grid\",\n",
    "    \"origin\": (100,200),\n",
    "    \"offset\": (0,0),\n",
    "    \"resolution\": 1,\n",
    "    \"size\": (10,10),\n",
    "    \"data\": np.zeros((10,10))    \n",
    "}\n",
    "pt_a = (105, 205) #this is the center of the grid\n",
    "\n",
    "# test Left then Top\n",
    "print (\"LEFT\")\n",
    "pt_b = (107, 198)\n",
    "print (intersect_grid_pts(pt_a, pt_b, my_test_grid))\n",
    "\n",
    "# test Right then Top\n",
    "print (\"RIGHT\")\n",
    "pt_b = (107, 212)\n",
    "print (intersect_grid_pts(pt_a, pt_b, my_test_grid) - pt_a)\n",
    "\n",
    "# test Top then Left\n",
    "print (\"TOP\")\n",
    "pt_b = (115,201)\n",
    "print (intersect_grid_pts(pt_a, pt_b, my_test_grid) - pt_a)\n",
    "\n",
    "# test Top then Right\n",
    "print (\"TOP\")\n",
    "pt_b = (115,209)\n",
    "print (intersect_grid_pts(pt_a, pt_b, my_test_grid)-pt_a)\n",
    "\n",
    "\n",
    "# test Bottom then Left\n",
    "print (\"Bottom\")\n",
    "pt_b = (95, 201)\n",
    "print (intersect_grid_pts(pt_a, pt_b, my_test_grid)-pt_a)\n",
    "\n",
    "\n",
    "# test Bottom then Right\n",
    "print (\"Bottom\")\n",
    "pt_b = (95, 209)\n",
    "print (intersect_grid_pts(pt_a, pt_b, my_test_grid)-pt_a)\n",
    "\n",
    "# test Right then Bottom\n",
    "print (\"RIGHT\")\n",
    "pt_b = (103, 212)\n",
    "print (intersect_grid_pts(pt_a, pt_b, my_test_grid) - pt_a)\n",
    "\n",
    "# test Left then Bottom\n",
    "print (\"Left\")\n",
    "pt_b = (103, 198)\n",
    "print (intersect_grid_pts(pt_a, pt_b, my_test_grid)-pt_a)\n",
    "\n",
    "# test bottom only\n",
    "print (\"Bottom only\")\n",
    "pt_b = (50, 205)\n",
    "print (intersect_grid_pts(pt_a, pt_b, my_test_grid))\n",
    "\n",
    "# test top only\n",
    "print (\"Top only\")\n",
    "pt_b = (200, 205)\n",
    "print (intersect_grid_pts(pt_a, pt_b, my_test_grid))\n",
    "\n",
    "# test right only\n",
    "print (\"Right only\")\n",
    "pt_b = (105, 300)\n",
    "print (intersect_grid_pts(pt_a, pt_b, my_test_grid))\n",
    "\n",
    "# test left only\n",
    "print (\"Left only\")\n",
    "pt_b = (105, 100)\n",
    "print (intersect_grid_pts(pt_a, pt_b, my_test_grid))"
   ]
  },
  {
   "cell_type": "markdown",
   "metadata": {},
   "source": [
    "## Use of shapely library and comparison"
   ]
  },
  {
   "cell_type": "code",
   "execution_count": 255,
   "metadata": {},
   "outputs": [],
   "source": [
    "from shapely.geometry import Polygon, Point, LineString"
   ]
  },
  {
   "cell_type": "code",
   "execution_count": 256,
   "metadata": {},
   "outputs": [
    {
     "data": {
      "text/plain": [
       "array([106.28571429, 200.5       ])"
      ]
     },
     "execution_count": 256,
     "metadata": {},
     "output_type": "execute_result"
    }
   ],
   "source": [
    "def test_intersect1():\n",
    "    pt_a = (105, 205) #this is the center of the grid\n",
    "    pt_b = (107, 198)\n",
    "    return intersect_grid_pts(pt_a, pt_b, my_test_grid)\n",
    "test_intersect1()"
   ]
  },
  {
   "cell_type": "code",
   "execution_count": 257,
   "metadata": {},
   "outputs": [
    {
     "data": {
      "text/plain": [
       "(106.42857142857143, 200.0)"
      ]
     },
     "execution_count": 257,
     "metadata": {},
     "output_type": "execute_result"
    }
   ],
   "source": [
    "def test_intersect2():\n",
    "    pt_a = (105, 205)\n",
    "    pt_b = (107, 198)\n",
    "    line = LineString ([pt_a, pt_b])\n",
    "    grid_perimeter = LineString([(100,200),(110,200),(110,210),(100,210)])\n",
    "    return line.intersection(grid_perimeter).coords[0]\n",
    "test_intersect2()"
   ]
  },
  {
   "cell_type": "code",
   "execution_count": 258,
   "metadata": {},
   "outputs": [],
   "source": [
    "# Test Speed"
   ]
  },
  {
   "cell_type": "code",
   "execution_count": 259,
   "metadata": {},
   "outputs": [
    {
     "name": "stdout",
     "output_type": "stream",
     "text": [
      "test 1 took 0.07954978942871094\n",
      "test 2 took 1.1834688186645508\n"
     ]
    }
   ],
   "source": [
    "import time\n",
    "iterations = 10000\n",
    "t0 = time.time()\n",
    "for i in range(iterations):\n",
    "    #method 1\n",
    "    test_intersect1()\n",
    "print (\"test 1 took {}\".format(time.time() - t0))\n",
    "\n",
    "t0 = time.time()\n",
    "for i in range (iterations):\n",
    "    #method 2\n",
    "    test_intersect2()\n",
    "print (\"test 2 took {}\".format(time.time() - t0))"
   ]
  },
  {
   "cell_type": "code",
   "execution_count": null,
   "metadata": {},
   "outputs": [],
   "source": []
  },
  {
   "cell_type": "code",
   "execution_count": null,
   "metadata": {},
   "outputs": [],
   "source": []
  },
  {
   "cell_type": "code",
   "execution_count": 260,
   "metadata": {},
   "outputs": [
    {
     "ename": "NameError",
     "evalue": "name 'res_w' is not defined",
     "output_type": "error",
     "traceback": [
      "\u001b[0;31m---------------------------------------------------------------------------\u001b[0m",
      "\u001b[0;31mNameError\u001b[0m                                 Traceback (most recent call last)",
      "\u001b[0;32m<ipython-input-260-8d33f39b5e8b>\u001b[0m in \u001b[0;36m<module>\u001b[0;34m\u001b[0m\n\u001b[0;32m----> 1\u001b[0;31m \u001b[0;32mdef\u001b[0m \u001b[0mfill_with_obstacle\u001b[0m\u001b[0;34m(\u001b[0m\u001b[0mcurrent_loc\u001b[0m\u001b[0;34m,\u001b[0m \u001b[0mres_w\u001b[0m \u001b[0;34m=\u001b[0m \u001b[0mres_w\u001b[0m\u001b[0;34m,\u001b[0m \u001b[0mres_h\u001b[0m\u001b[0;34m=\u001b[0m\u001b[0mres_w\u001b[0m\u001b[0;34m,\u001b[0m \u001b[0mmy_map\u001b[0m\u001b[0;34m=\u001b[0m\u001b[0mmy_map\u001b[0m\u001b[0;34m)\u001b[0m\u001b[0;34m:\u001b[0m\u001b[0;34m\u001b[0m\u001b[0;34m\u001b[0m\u001b[0m\n\u001b[0m\u001b[1;32m      2\u001b[0m \u001b[0;34m\u001b[0m\u001b[0m\n\u001b[1;32m      3\u001b[0m     \u001b[0mmoving_square\u001b[0m \u001b[0;34m=\u001b[0m \u001b[0mnp\u001b[0m\u001b[0;34m.\u001b[0m\u001b[0mzeros\u001b[0m\u001b[0;34m(\u001b[0m\u001b[0;34m(\u001b[0m\u001b[0mres_h\u001b[0m\u001b[0;34m,\u001b[0m \u001b[0mres_w\u001b[0m\u001b[0;34m)\u001b[0m\u001b[0;34m)\u001b[0m\u001b[0;34m\u001b[0m\u001b[0;34m\u001b[0m\u001b[0m\n\u001b[1;32m      4\u001b[0m     \u001b[0;32mfor\u001b[0m \u001b[0mrow\u001b[0m \u001b[0;32min\u001b[0m \u001b[0mrange\u001b[0m\u001b[0;34m(\u001b[0m\u001b[0mres_h\u001b[0m\u001b[0;34m)\u001b[0m\u001b[0;34m:\u001b[0m\u001b[0;34m\u001b[0m\u001b[0;34m\u001b[0m\u001b[0m\n\u001b[1;32m      5\u001b[0m         \u001b[0;32mfor\u001b[0m \u001b[0mcolumn\u001b[0m \u001b[0;32min\u001b[0m \u001b[0mrange\u001b[0m\u001b[0;34m(\u001b[0m\u001b[0mres_w\u001b[0m\u001b[0;34m)\u001b[0m\u001b[0;34m:\u001b[0m\u001b[0;34m\u001b[0m\u001b[0;34m\u001b[0m\u001b[0m\n",
      "\u001b[0;31mNameError\u001b[0m: name 'res_w' is not defined"
     ]
    }
   ],
   "source": [
    "def fill_with_obstacle(current_loc, res_w = res_w, res_h=res_w, my_map=my_map):\n",
    "    \n",
    "    moving_square = np.zeros((res_h, res_w))\n",
    "    for row in range(res_h):\n",
    "        for column in range(res_w):\n",
    "            coord_to_test = [current_loc[0] + row - 2, \n",
    "                             current_loc[1] + column - 2]\n",
    "            if coord_to_test[0]<0 or coord_to_test[1]<0:\n",
    "                moving_square[row][column] = 1\n",
    "            else:\n",
    "                if my_map[coord_to_test[0]][coord_to_test[1]] == 1:\n",
    "                    moving_square[row][column] = 1\n",
    "    return moving_square\n"
   ]
  },
  {
   "cell_type": "code",
   "execution_count": null,
   "metadata": {},
   "outputs": [],
   "source": [
    "def find_horizon(current_loc, all_wp=all_wp, goal=goal, res_w = res_w, res_h=res_w, my_map=my_map):\n",
    "    # find the horizon point within a given resolution\n",
    "    \n",
    "    # build the moving square\n",
    "    moving_square = fill_with_obstacle(current_loc, res_w, res_h, my_map)\n",
    "    print (moving_square)\n",
    "    \n",
    "    #Is there a waypoint in the moving square?\n",
    "\n",
    "    return [0,0]\n",
    "    #return horizon"
   ]
  },
  {
   "cell_type": "code",
   "execution_count": 261,
   "metadata": {},
   "outputs": [
    {
     "name": "stdout",
     "output_type": "stream",
     "text": [
      "Grid resolution : 6\n",
      "Initial map coordinates: [50, -100]\n"
     ]
    },
    {
     "ename": "TypeError",
     "evalue": "map_to_grid() takes 2 positional arguments but 4 were given",
     "output_type": "error",
     "traceback": [
      "\u001b[0;31m---------------------------------------------------------------------------\u001b[0m",
      "\u001b[0;31mTypeError\u001b[0m                                 Traceback (most recent call last)",
      "\u001b[0;32m<ipython-input-261-b376c9c01d0a>\u001b[0m in \u001b[0;36m<module>\u001b[0;34m\u001b[0m\n\u001b[1;32m      4\u001b[0m \u001b[0;34m\u001b[0m\u001b[0m\n\u001b[1;32m      5\u001b[0m \u001b[0mprint\u001b[0m \u001b[0;34m(\u001b[0m\u001b[0;34m\"Initial map coordinates: {}\"\u001b[0m\u001b[0;34m.\u001b[0m\u001b[0mformat\u001b[0m\u001b[0;34m(\u001b[0m\u001b[0mmap_coord\u001b[0m\u001b[0;34m)\u001b[0m\u001b[0;34m)\u001b[0m\u001b[0;34m\u001b[0m\u001b[0;34m\u001b[0m\u001b[0m\n\u001b[0;32m----> 6\u001b[0;31m \u001b[0mgrid_coord\u001b[0m \u001b[0;34m=\u001b[0m \u001b[0mmap_to_grid\u001b[0m \u001b[0;34m(\u001b[0m\u001b[0mmap_coord\u001b[0m\u001b[0;34m,\u001b[0m \u001b[0;34m-\u001b[0m\u001b[0;36m300\u001b[0m\u001b[0;34m,\u001b[0m \u001b[0;34m-\u001b[0m\u001b[0;36m500\u001b[0m\u001b[0;34m,\u001b[0m \u001b[0mgrid_resolution\u001b[0m\u001b[0;34m)\u001b[0m\u001b[0;34m\u001b[0m\u001b[0;34m\u001b[0m\u001b[0m\n\u001b[0m\u001b[1;32m      7\u001b[0m \u001b[0mprint\u001b[0m \u001b[0;34m(\u001b[0m\u001b[0;34m\"Grid coordinates: {}\"\u001b[0m\u001b[0;34m.\u001b[0m\u001b[0mformat\u001b[0m\u001b[0;34m(\u001b[0m\u001b[0mgrid_coord\u001b[0m\u001b[0;34m)\u001b[0m\u001b[0;34m)\u001b[0m\u001b[0;34m\u001b[0m\u001b[0;34m\u001b[0m\u001b[0m\n\u001b[1;32m      8\u001b[0m print (\"Verification: {} = {}\".\n",
      "\u001b[0;31mTypeError\u001b[0m: map_to_grid() takes 2 positional arguments but 4 were given"
     ]
    }
   ],
   "source": [
    "map_coord = [50, -100]\n",
    "grid_resolution = 6\n",
    "print (\"Grid resolution : {}\".format(grid_resolution))\n",
    "\n",
    "print (\"Initial map coordinates: {}\".format(map_coord))\n",
    "grid_coord = map_to_grid (map_coord, -300, -500, grid_resolution)\n",
    "print (\"Grid coordinates: {}\".format(grid_coord))\n",
    "print (\"Verification: {} = {}\".\n",
    "       format(map_coord, grid_to_map(grid_coord, -300, -500, grid_resolution)))"
   ]
  },
  {
   "cell_type": "code",
   "execution_count": 262,
   "metadata": {},
   "outputs": [
    {
     "ename": "NameError",
     "evalue": "name 'grid_to_moving_grid' is not defined",
     "output_type": "error",
     "traceback": [
      "\u001b[0;31m---------------------------------------------------------------------------\u001b[0m",
      "\u001b[0;31mNameError\u001b[0m                                 Traceback (most recent call last)",
      "\u001b[0;32m<ipython-input-262-a245954c60a1>\u001b[0m in \u001b[0;36m<module>\u001b[0;34m\u001b[0m\n\u001b[1;32m      3\u001b[0m \u001b[0mmoving_grid_resolution\u001b[0m \u001b[0;34m=\u001b[0m \u001b[0;36m0.2\u001b[0m\u001b[0;34m\u001b[0m\u001b[0;34m\u001b[0m\u001b[0m\n\u001b[1;32m      4\u001b[0m \u001b[0mmoving_grid_center\u001b[0m \u001b[0;34m=\u001b[0m \u001b[0;34m[\u001b[0m\u001b[0;34m-\u001b[0m\u001b[0;36m280\u001b[0m\u001b[0;34m,\u001b[0m \u001b[0;34m-\u001b[0m\u001b[0;36m470\u001b[0m\u001b[0;34m]\u001b[0m\u001b[0;34m\u001b[0m\u001b[0;34m\u001b[0m\u001b[0m\n\u001b[0;32m----> 5\u001b[0;31m \u001b[0mgrid_to_moving_grid\u001b[0m\u001b[0;34m(\u001b[0m\u001b[0mgrid_coord\u001b[0m\u001b[0;34m,\u001b[0m \u001b[0mmoving_grid_center\u001b[0m\u001b[0;34m,\u001b[0m \u001b[0mgrid_resolution\u001b[0m\u001b[0;34m,\u001b[0m \u001b[0mmoving_grid_resolution\u001b[0m\u001b[0;34m)\u001b[0m\u001b[0;34m\u001b[0m\u001b[0;34m\u001b[0m\u001b[0m\n\u001b[0m",
      "\u001b[0;31mNameError\u001b[0m: name 'grid_to_moving_grid' is not defined"
     ]
    }
   ],
   "source": [
    "grid_coord = [10,20]\n",
    "grid_resolution = 1\n",
    "moving_grid_resolution = 0.2\n",
    "moving_grid_center = [-280, -470]\n",
    "grid_to_moving_grid(grid_coord, moving_grid_center, grid_resolution, moving_grid_resolution)"
   ]
  },
  {
   "cell_type": "code",
   "execution_count": 263,
   "metadata": {
    "scrolled": true
   },
   "outputs": [
    {
     "ename": "NameError",
     "evalue": "name 'map_to_moving_grid' is not defined",
     "output_type": "error",
     "traceback": [
      "\u001b[0;31m---------------------------------------------------------------------------\u001b[0m",
      "\u001b[0;31mNameError\u001b[0m                                 Traceback (most recent call last)",
      "\u001b[0;32m<ipython-input-263-0a36a9fa051d>\u001b[0m in \u001b[0;36m<module>\u001b[0;34m\u001b[0m\n\u001b[1;32m      2\u001b[0m \u001b[0mmoving_grid_center\u001b[0m \u001b[0;34m=\u001b[0m \u001b[0;34m[\u001b[0m\u001b[0;34m-\u001b[0m\u001b[0;36m202\u001b[0m\u001b[0;34m,\u001b[0m \u001b[0;36m301\u001b[0m\u001b[0;34m]\u001b[0m\u001b[0;34m\u001b[0m\u001b[0;34m\u001b[0m\u001b[0m\n\u001b[1;32m      3\u001b[0m \u001b[0mmoving_grid_resolution\u001b[0m \u001b[0;34m=\u001b[0m \u001b[0;36m0.2\u001b[0m\u001b[0;34m\u001b[0m\u001b[0;34m\u001b[0m\u001b[0m\n\u001b[0;32m----> 4\u001b[0;31m \u001b[0mmap_to_moving_grid\u001b[0m\u001b[0;34m(\u001b[0m\u001b[0mmap_coord\u001b[0m\u001b[0;34m,\u001b[0m \u001b[0mmoving_grid_center\u001b[0m\u001b[0;34m,\u001b[0m \u001b[0mmoving_grid_resolution\u001b[0m\u001b[0;34m)\u001b[0m\u001b[0;34m\u001b[0m\u001b[0;34m\u001b[0m\u001b[0m\n\u001b[0m",
      "\u001b[0;31mNameError\u001b[0m: name 'map_to_moving_grid' is not defined"
     ]
    }
   ],
   "source": [
    "map_coord = [-200, 300]\n",
    "moving_grid_center = [-202, 301]\n",
    "moving_grid_resolution = 0.2\n",
    "map_to_moving_grid(map_coord, moving_grid_center, moving_grid_resolution)"
   ]
  },
  {
   "cell_type": "code",
   "execution_count": 264,
   "metadata": {},
   "outputs": [],
   "source": [
    "a = np.array([1, 2])\n",
    "b = np.array([1.2, 5])\n",
    "c = a - b"
   ]
  },
  {
   "cell_type": "code",
   "execution_count": 265,
   "metadata": {},
   "outputs": [
    {
     "data": {
      "text/plain": [
       "array([ 0, -3])"
      ]
     },
     "execution_count": 265,
     "metadata": {},
     "output_type": "execute_result"
    }
   ],
   "source": [
    "c.astype(int)"
   ]
  },
  {
   "cell_type": "code",
   "execution_count": null,
   "metadata": {},
   "outputs": [],
   "source": []
  },
  {
   "cell_type": "code",
   "execution_count": 266,
   "metadata": {},
   "outputs": [],
   "source": [
    "import numpy as np\n",
    "\n",
    "# Assume all actions cost the same.\n",
    "class Action:\n",
    "    \"\"\"\n",
    "    An action is represented by a 3 element tuple.\n",
    "\n",
    "    The first 2 values are the delta of the action relative\n",
    "    to the current grid position. The third and final value\n",
    "    is the cost of performing the action.\n",
    "    NWU = (1,1,1)\n",
    "    \"\"\"\n",
    "    \n",
    "    def __init__(self):\n",
    "        self.list_actions = self.build_actions()\n",
    "        \n",
    "    def build_actions(self):\n",
    "        #list_actions = [[[0,0,0], 1], ...]\n",
    "        list_actions=[]\n",
    "        arr = np.zeros([3,3,3])\n",
    "        for idx, _ in np.ndenumerate(arr):\n",
    "            if not np.array_equal(idx,[1,1,1]):               \n",
    "                coord = np.array(idx) - [1,1,1]\n",
    "                cost = np.linalg.norm(np.array(coord) - np.array([0,0,0])).astype(float)\n",
    "                list_actions.append([coord, cost])        \n",
    "        return list_actions"
   ]
  },
  {
   "cell_type": "code",
   "execution_count": 298,
   "metadata": {},
   "outputs": [],
   "source": [
    "def valid_actions_3D(grid, current_node):\n",
    "    \"\"\"\n",
    "    Returns a list of valid actions given a grid and current node.\n",
    "    \"\"\"\n",
    "    if not in_grid_3D(current_node, grid):\n",
    "        return []\n",
    "    all_actions = Action()\n",
    "    valid_actions = all_actions.list_actions\n",
    "    node_valid_actions = []\n",
    "    #print (\"valid actions are {}\".format(valid_actions))\n",
    "    \n",
    "    #n, m = grid.shape[0] - 1, grid.shape[1] - 1\n",
    "    x, y, z = current_node\n",
    "\n",
    "    # check if the node is off the grid or\n",
    "    # it's an obstacle\n",
    "    \n",
    "    for each_action in valid_actions:\n",
    "        new_coord = [x + each_action[0][0],\n",
    "                     y + each_action[0][1], \n",
    "                     z + each_action[0][2]]\n",
    "        \n",
    "        test_in_grid = in_grid_3D(new_coord, grid)\n",
    "        #print (\"Test in Grid = {} for new coordinates {}\".\n",
    "               #format(test_in_grid, new_coord))\n",
    "        if test_in_grid:\n",
    "            test_occupied = (grid[\"data\"][x + each_action[0][0], \n",
    "                              y + each_action[0][1], \n",
    "                              z + each_action[0][2]] == 1)\n",
    "            if not test_occupied:\n",
    "                node_valid_actions.append(each_action)\n",
    "                \n",
    "    return node_valid_actions\n",
    "\n",
    "\"\"\"\n",
    "def a_star_grid(grid, h, start, goal):\n",
    "\n",
    "    path = []\n",
    "    path_cost = 0\n",
    "    queue = PriorityQueue()\n",
    "    queue.put((0, start))\n",
    "    visited = set(start)\n",
    "\n",
    "    branch = {}\n",
    "    found = False\n",
    "    i = 0\n",
    "    while not queue.empty():\n",
    "        i+=1\n",
    "        print (\"Iterations {}\".format(i))\n",
    "        item = queue.get()\n",
    "        current_node = item[1]\n",
    "        if current_node == start:\n",
    "            current_cost = 0.0\n",
    "        else:\n",
    "            current_cost = branch[current_node][0]\n",
    "\n",
    "        if current_node == goal:\n",
    "            print('Found a path.')\n",
    "            found = True\n",
    "            break\n",
    "        else:\n",
    "            for action in valid_actions(grid, current_node):\n",
    "                # get the tuple representation\n",
    "                da = action.delta\n",
    "                next_node = (current_node[0] + da[0], current_node[1] + da[1])\n",
    "                branch_cost = current_cost + action.cost\n",
    "                queue_cost = branch_cost + h(next_node, goal)\n",
    "\n",
    "                if next_node not in visited:\n",
    "                    visited.add(next_node)\n",
    "                    branch[next_node] = (branch_cost, current_node, action)\n",
    "                    queue.put((queue_cost, next_node))\n",
    "\n",
    "    if found:\n",
    "        # retrace steps\n",
    "        n = goal\n",
    "        path_cost = branch[n][0]\n",
    "        path.append(goal)\n",
    "        while branch[n][1] != start:\n",
    "            path.append(branch[n][1])\n",
    "            n = branch[n][1]\n",
    "        path.append(branch[n][1])\n",
    "    else:\n",
    "        print('**********************')\n",
    "        print('Failed to find a path!')\n",
    "        print('**********************')\n",
    "    return path[::-1], path_cost\n",
    "\"\"\"\n",
    "\n",
    "\n",
    "def heuristic(position, goal_position):\n",
    "    return np.linalg.norm(np.array(position) - np.array(goal_position))"
   ]
  },
  {
   "cell_type": "markdown",
   "metadata": {},
   "source": [
    "## Test Valid_actions_3D"
   ]
  },
  {
   "cell_type": "code",
   "execution_count": 299,
   "metadata": {},
   "outputs": [],
   "source": [
    "grid= np.zeros([10,10,10])"
   ]
  },
  {
   "cell_type": "code",
   "execution_count": 300,
   "metadata": {},
   "outputs": [],
   "source": [
    "my_grid = {\n",
    "    \"name\": \"Grid from map\",\n",
    "    \"origin\": (0, 0, 0),\n",
    "    \"offset\": (0,0),\n",
    "    \"resolution\": 1,\n",
    "    \"size\": (10, 10, 10),\n",
    "    \"data\": grid    \n",
    "}"
   ]
  },
  {
   "cell_type": "code",
   "execution_count": 312,
   "metadata": {},
   "outputs": [],
   "source": [
    "node = [8,8,1]"
   ]
  },
  {
   "cell_type": "code",
   "execution_count": 313,
   "metadata": {},
   "outputs": [
    {
     "name": "stdout",
     "output_type": "stream",
     "text": [
      "26\n"
     ]
    }
   ],
   "source": [
    "my_valid_actions_3D = valid_actions_3D(my_grid, node)\n",
    "print (len(my_valid_actions_3D))"
   ]
  },
  {
   "cell_type": "code",
   "execution_count": 303,
   "metadata": {},
   "outputs": [
    {
     "data": {
      "text/plain": [
       "[]"
      ]
     },
     "execution_count": 303,
     "metadata": {},
     "output_type": "execute_result"
    }
   ],
   "source": [
    "my_valid_actions_3D"
   ]
  },
  {
   "cell_type": "code",
   "execution_count": 25,
   "metadata": {},
   "outputs": [],
   "source": [
    "all_wp = [(1,2), (3,5), (4,7)]\n",
    "current_location = (40,50)\n",
    "all_wp.insert(0,current_location)"
   ]
  },
  {
   "cell_type": "code",
   "execution_count": 26,
   "metadata": {},
   "outputs": [
    {
     "data": {
      "text/plain": [
       "[(40, 50), (1, 2), (3, 5), (4, 7)]"
      ]
     },
     "execution_count": 26,
     "metadata": {},
     "output_type": "execute_result"
    }
   ],
   "source": [
    "all_wp"
   ]
  },
  {
   "cell_type": "code",
   "execution_count": null,
   "metadata": {},
   "outputs": [],
   "source": []
  },
  {
   "cell_type": "code",
   "execution_count": 27,
   "metadata": {},
   "outputs": [
    {
     "data": {
      "text/plain": [
       "[(40, 50), [(1, 2), (3, 5), (4, 7)]]"
      ]
     },
     "execution_count": 27,
     "metadata": {},
     "output_type": "execute_result"
    }
   ],
   "source": [
    "a"
   ]
  },
  {
   "cell_type": "code",
   "execution_count": 37,
   "metadata": {},
   "outputs": [],
   "source": [
    "def create_2_dot_5_grid(data, safety_distance):\n",
    "    \"\"\"\n",
    "    Returns a grid representation of a 2.5D configuration space\n",
    "    based on given obstacle data, drone altitude and safety distance\n",
    "    arguments.\n",
    "    \"\"\"\n",
    "\n",
    "    # minimum and maximum north coordinates\n",
    "    north_min = np.floor(np.min(data[:, 0] - data[:, 3]))\n",
    "    north_max = np.ceil(np.max(data[:, 0] + data[:, 3]))\n",
    "\n",
    "    # minimum and maximum east coordinates\n",
    "    east_min = np.floor(np.min(data[:, 1] - data[:, 4]))\n",
    "    east_max = np.ceil(np.max(data[:, 1] + data[:, 4]))\n",
    "\n",
    "    # given the minimum and maximum coordinates we can\n",
    "    # calculate the size of the grid.\n",
    "    north_size = int(np.ceil(north_max - north_min))\n",
    "    east_size = int(np.ceil(east_max - east_min))\n",
    "\n",
    "    # Initialize an empty grid\n",
    "    grid_size = (north_size, east_size)\n",
    "    grid = np.zeros(grid_size)\n",
    "\n",
    "    # Populate the grid with obstacles\n",
    "    for i in range(data.shape[0]):\n",
    "        north, east, alt, d_north, d_east, d_alt = data[i, :]\n",
    "        \n",
    "        obstacle = [\n",
    "            int(np.clip(north - d_north - safety_distance - north_min, 0, north_size-1)),\n",
    "            int(np.clip(north + d_north + safety_distance - north_min, 0, north_size-1)),\n",
    "            int(np.clip(east - d_east - safety_distance - east_min, 0, east_size-1)),\n",
    "            int(np.clip(east + d_east + safety_distance - east_min, 0, east_size-1)),\n",
    "        ]\n",
    "        grid[obstacle[0]:obstacle[1]+1, obstacle[2]:obstacle[3]+1] = alt + d_alt + safety_distance\n",
    "\n",
    "    return grid, int(north_min), int(east_min), grid_size"
   ]
  },
  {
   "cell_type": "code",
   "execution_count": 38,
   "metadata": {},
   "outputs": [],
   "source": [
    "import numpy as np\n",
    "SAFETY_DISTANCE = 5\n",
    "data = np.loadtxt('colliders.csv', delimiter=',', dtype='float32', skiprows=2)\n",
    "dot_5_grid, _, _, _ = create_2_dot_5_grid(data, SAFETY_DISTANCE)"
   ]
  },
  {
   "cell_type": "code",
   "execution_count": 40,
   "metadata": {},
   "outputs": [
    {
     "data": {
      "text/plain": [
       "165.0"
      ]
     },
     "execution_count": 40,
     "metadata": {},
     "output_type": "execute_result"
    }
   ],
   "source": [
    "dot_5_grid[-275+316, -83+446]"
   ]
  },
  {
   "cell_type": "code",
   "execution_count": null,
   "metadata": {},
   "outputs": [],
   "source": []
  },
  {
   "cell_type": "code",
   "execution_count": null,
   "metadata": {},
   "outputs": [],
   "source": []
  }
 ],
 "metadata": {
  "kernelspec": {
   "display_name": "drlnd",
   "language": "python",
   "name": "drlnd"
  },
  "language_info": {
   "codemirror_mode": {
    "name": "ipython",
    "version": 3
   },
   "file_extension": ".py",
   "mimetype": "text/x-python",
   "name": "python",
   "nbconvert_exporter": "python",
   "pygments_lexer": "ipython3",
   "version": "3.6.12"
  }
 },
 "nbformat": 4,
 "nbformat_minor": 4
}
